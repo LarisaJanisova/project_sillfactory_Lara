{
 "cells": [
  {
   "cell_type": "code",
   "execution_count": 1,
   "metadata": {},
   "outputs": [],
   "source": [
    "def game_core_v1(number):\n",
    "    x =1\n",
    "    y=100\n",
    "    import numpy as np\n",
    "    number = np.random.randint(1,101)\n",
    "    result=y\n",
    "    count = 0\n",
    "    numbers_list = [i for i in range(x, y+1)]\n",
    "\n",
    "    while result!=number:\n",
    "        result=int((x+y+1)/2)\n",
    "        count+=1\n",
    "        numbers_list = [i for i in range(x, y+1)]\n",
    "        if result > number:\n",
    "            y=result\n",
    "        elif result<number:\n",
    "            x=result\n",
    "    return (count)\n"
   ]
  },
  {
   "cell_type": "code",
   "execution_count": 2,
   "metadata": {},
   "outputs": [
    {
     "name": "stdout",
     "output_type": "stream",
     "text": [
      "Ваш алгоритм угадывает число в среднем за 5 попыток\n"
     ]
    },
    {
     "data": {
      "text/plain": [
       "5"
      ]
     },
     "execution_count": 2,
     "metadata": {},
     "output_type": "execute_result"
    }
   ],
   "source": [
    "def score_game(game_core):\n",
    "    count_ls = []\n",
    "    import numpy as np\n",
    "    np.random.seed(1)  \n",
    "    random_array = np.random.randint(1,101, size=(1000))\n",
    "    for number in random_array:\n",
    "        count_ls.append(game_core(number))\n",
    "    score = int(np.mean(count_ls))\n",
    "    print(f\"Ваш алгоритм угадывает число в среднем за {score} попыток\")\n",
    "    return(score)\n",
    "score_game(game_core_v1)"
   ]
  },
  {
   "cell_type": "code",
   "execution_count": null,
   "metadata": {},
   "outputs": [],
   "source": []
  }
 ],
 "metadata": {
  "kernelspec": {
   "display_name": "Python 3",
   "language": "python",
   "name": "python3"
  },
  "language_info": {
   "codemirror_mode": {
    "name": "ipython",
    "version": 3
   },
   "file_extension": ".py",
   "mimetype": "text/x-python",
   "name": "python",
   "nbconvert_exporter": "python",
   "pygments_lexer": "ipython3",
   "version": "3.7.6"
  }
 },
 "nbformat": 4,
 "nbformat_minor": 4
}
